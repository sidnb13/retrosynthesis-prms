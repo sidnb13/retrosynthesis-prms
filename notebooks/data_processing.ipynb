{
 "cells": [
  {
   "cell_type": "code",
   "execution_count": 1,
   "metadata": {},
   "outputs": [],
   "source": [
    "import re\n",
    "from tqdm import tqdm\n",
    "from rdkit.Chem import AllChem\n",
    "from rdkit import Chem, RDLogger\n",
    "from collections import defaultdict\n",
    "from hashlib import md5"
   ]
  },
  {
   "cell_type": "code",
   "execution_count": 2,
   "metadata": {},
   "outputs": [],
   "source": [
    "reagents = {}"
   ]
  },
  {
   "cell_type": "code",
   "execution_count": 3,
   "metadata": {},
   "outputs": [],
   "source": [
    "def process(smarts):\n",
    "    \"\"\"Process a SMARTS reaction string\n",
    "    into source and target tokens\"\"\"\n",
    "    rxn = AllChem.ReactionFromSmarts(smarts)\n",
    "    prods = rxn.GetProducts()\n",
    "    if len(prods) > 1:\n",
    "        return None\n",
    "\n",
    "    rxn.Initialize()\n",
    "    try:\n",
    "        reactants = list(zip(rxn.GetReactants(), rxn.GetReactingAtoms()))\n",
    "    except ValueError:\n",
    "        # Likely that initialization failed\n",
    "        # print('Failed to initialize')\n",
    "        return None\n",
    "\n",
    "    prod_smis = []\n",
    "    for mol in prods:\n",
    "        # Clear atom mappings\n",
    "        [x.ClearProp(\"molAtomMapNumber\") for x in mol.GetAtoms()]\n",
    "        smi = Chem.MolToSmiles(mol)\n",
    "        prod_smis.append(smi)\n",
    "\n",
    "    react_smis = []\n",
    "    reagent_syms = []\n",
    "    for mol, atoms in reactants:\n",
    "        # Clear atom mappings\n",
    "        [x.ClearProp(\"molAtomMapNumber\") for x in mol.GetAtoms()]\n",
    "\n",
    "        # Remove molecules with no reacting atoms (reagents)\n",
    "        # But represent as a symbol\n",
    "        if not atoms:\n",
    "            smi = Chem.MolToSmiles(mol)\n",
    "            if smi not in reagents:\n",
    "                reagents[smi] = len(reagents)\n",
    "            reagent_syms.append(\"[A{}]\".format(reagents[smi]))\n",
    "\n",
    "        else:\n",
    "            smi = Chem.MolToSmiles(mol)\n",
    "            react_smis.append(smi)\n",
    "\n",
    "    source = react_smis\n",
    "    if reagent_syms:\n",
    "        source.extend(reagent_syms)\n",
    "    target = prod_smis\n",
    "\n",
    "    return source, target\n",
    "\n",
    "\n",
    "def clean(line):\n",
    "    return line.strip().split()[0]"
   ]
  },
  {
   "cell_type": "code",
   "execution_count": 4,
   "metadata": {},
   "outputs": [
    {
     "name": "stdout",
     "output_type": "stream",
     "text": [
      "[Br:1][CH2:2][CH2:3][OH:4].[CH2:5]([S:7](Cl)(=[O:9])=[O:8])[CH3:6].CCOCC>C(N(CC)CC)C>[CH2:5]([S:7]([O:4][CH2:3][CH2:2][Br:1])(=[O:9])=[O:8])[CH3:6]\n",
      "[Br:1][CH2:2][CH2:3][CH2:4][OH:5].[CH3:6][S:7](Cl)(=[O:9])=[O:8].CCOCC>C(N(CC)CC)C>[CH3:6][S:7]([O:5][CH2:4][CH2:3][CH2:2][Br:1])(=[O:9])=[O:8]\n"
     ]
    }
   ],
   "source": [
    "# inspect\n",
    "with open(\"../data/reactions.rsmi\", \"r\") as f:\n",
    "    lines = f.readlines()\n",
    "    for line in lines[:2]:\n",
    "        print(line.strip())"
   ]
  },
  {
   "cell_type": "code",
   "execution_count": 12,
   "metadata": {},
   "outputs": [
    {
     "name": "stderr",
     "output_type": "stream",
     "text": [
      "0it [00:00, ?it/s][23:16:47] reactant 2 has no mapped atoms.\n",
      "0it [00:00, ?it/s, reactions=1, reagents=1][23:16:47] reactant 2 has no mapped atoms.\n",
      "0it [00:00, ?it/s, reactions=2, reagents=1][23:16:47] reactant 1 has no mapped atoms.\n",
      "0it [00:00, ?it/s, reactions=3, reagents=1][23:16:47] reactant 2 has no mapped atoms.\n",
      "[23:16:48] reactant 2 has no mapped atoms.\n",
      "[23:16:48] reactant 1 has no mapped atoms.\n",
      "[23:16:48] reactant 1 has no mapped atoms.\n",
      "[23:16:48] reactant 2 has no mapped atoms.\n",
      "[23:16:48] reactant 3 has no mapped atoms.\n",
      "0it [00:00, ?it/s, reactions=5, reagents=1][23:16:48] reactant 0 has no mapped atoms.\n",
      "0it [00:00, ?it/s, reactions=7, reagents=1][23:16:48] reactant 1 has no mapped atoms.\n",
      "[23:16:48] reactant 2 has no mapped atoms.\n",
      "[23:16:48] reactant 3 has no mapped atoms.\n",
      "[23:16:48] reactant 4 has no mapped atoms.\n",
      "[23:16:48] reactant 5 has no mapped atoms.\n",
      "[23:16:48] reactant 6 has no mapped atoms.\n",
      "0it [00:00, ?it/s, reactions=9, reagents=1][23:16:48] reactant 1 has no mapped atoms.\n",
      "[23:16:48] reactant 3 has no mapped atoms.\n",
      "[23:16:48] reactant 4 has no mapped atoms.\n",
      "[23:16:48] product atom-mapping number 2 found multiple times.\n",
      "[23:16:48] product atom-mapping number 3 found multiple times.\n",
      "[23:16:48] product atom-mapping number 5 found multiple times.\n",
      "[23:16:48] product atom-mapping number 6 found multiple times.\n",
      "[23:16:48] product atom-mapping number 1 found multiple times.\n",
      "0it [00:00, ?it/s, reactions=10, reagents=1][23:16:48] product atom-mapping number 2 found multiple times.\n",
      "[23:16:48] product atom-mapping number 3 found multiple times.\n",
      "[23:16:48] product atom-mapping number 7 found multiple times.\n",
      "[23:16:48] product atom-mapping number 8 found multiple times.\n",
      "[23:16:48] product atom-mapping number 12 found multiple times.\n",
      "[23:16:48] product atom-mapping number 13 found multiple times.\n",
      "0it [00:00, ?it/s, reactions=12, reagents=1][23:16:48] reactant 2 has no mapped atoms.\n",
      "[23:16:48] reactant 3 has no mapped atoms.\n",
      "0it [00:00, ?it/s, reactions=13, reagents=1][23:16:48] reactant 1 has no mapped atoms.\n",
      "0it [00:00, ?it/s, reactions=14, reagents=1][23:16:48] reactant 1 has no mapped atoms.\n",
      "[23:16:48] reactant 2 has no mapped atoms.\n",
      "[23:16:48] reactant 3 has no mapped atoms.\n",
      "0it [00:00, ?it/s, reactions=16, reagents=1][23:16:48] reactant 2 has no mapped atoms.\n",
      "0it [00:00, ?it/s, reactions=17, reagents=1][23:16:48] reactant 0 has no mapped atoms.\n",
      "[23:16:48] reactant 1 has no mapped atoms.\n",
      "[23:16:48] reactant 2 has no mapped atoms.\n",
      "[23:16:48] reactant 3 has no mapped atoms.\n",
      "[23:16:48] reactant 4 has no mapped atoms.\n",
      "[23:16:48] reactant 5 has no mapped atoms.\n",
      "[23:16:48] reactant 7 has no mapped atoms.\n",
      "[23:16:48] reactant 8 has no mapped atoms.\n",
      "[23:16:48] reactant 9 has no mapped atoms.\n",
      "0it [00:00, ?it/s, reactions=18, reagents=1][23:16:48] reactant 0 has no mapped atoms.\n",
      "[23:16:48] reactant 1 has no mapped atoms.\n",
      "[23:16:48] reactant 5 has no mapped atoms.\n",
      "0it [00:00, ?it/s, reactions=19, reagents=1][23:16:48] reactant 1 has no mapped atoms.\n",
      "[23:16:48] reactant 2 has no mapped atoms.\n",
      "[23:16:48] reactant 3 has no mapped atoms.\n",
      "[23:16:48] reactant 4 has no mapped atoms.\n",
      "[23:16:48] reactant 5 has no mapped atoms.\n",
      "[23:16:48] reactant 7 has no mapped atoms.\n",
      "0it [00:00, ?it/s, reactions=20, reagents=1][23:16:48] reactant 1 has no mapped atoms.\n",
      "[23:16:48] reactant 2 has no mapped atoms.\n",
      "0it [00:00, ?it/s, reactions=21, reagents=1][23:16:48] reactant 1 has no mapped atoms.\n",
      "0it [00:00, ?it/s, reactions=23, reagents=1][23:16:48] reactant 0 has no mapped atoms.\n",
      "[23:16:48] reactant 3 has no mapped atoms.\n",
      "[23:16:48] reactant 4 has no mapped atoms.\n",
      "0it [00:00, ?it/s, reactions=24, reagents=1][23:16:48] reactant 0 has no mapped atoms.\n",
      "[23:16:48] reactant 3 has no mapped atoms.\n",
      "0it [00:00, ?it/s, reactions=25, reagents=1][23:16:48] reactant 0 has no mapped atoms.\n",
      "0it [00:00, ?it/s, reactions=27, reagents=1][23:16:48] reactant 1 has no mapped atoms.\n",
      "[23:16:48] reactant 2 has no mapped atoms.\n",
      "0it [00:00, ?it/s, reactions=28, reagents=1][23:16:48] reactant 2 has no mapped atoms.\n",
      "0it [00:00, ?it/s, reactions=29, reagents=1][23:16:48] reactant 1 has no mapped atoms.\n",
      "[23:16:48] reactant 2 has no mapped atoms.\n",
      "0it [00:00, ?it/s, reactions=30, reagents=1][23:16:48] reactant 2 has no mapped atoms.\n",
      "0it [00:00, ?it/s, reactions=31, reagents=1][23:16:48] reactant 1 has no mapped atoms.\n",
      "[23:16:48] reactant 2 has no mapped atoms.\n",
      "0it [00:00, ?it/s, reactions=32, reagents=1][23:16:48] reactant 1 has no mapped atoms.\n",
      "0it [00:00, ?it/s, reactions=33, reagents=1][23:16:48] reactant 0 has no mapped atoms.\n",
      "[23:16:48] reactant 1 has no mapped atoms.\n",
      "[23:16:48] reactant 4 has no mapped atoms.\n",
      "0it [00:00, ?it/s, reactions=34, reagents=1][23:16:48] reactant 0 has no mapped atoms.\n",
      "[23:16:48] reactant 1 has no mapped atoms.\n",
      "[23:16:48] reactant 3 has no mapped atoms.\n",
      "0it [00:00, ?it/s, reactions=36, reagents=1][23:16:48] reactant 0 has no mapped atoms.\n",
      "[23:16:48] reactant 2 has no mapped atoms.\n",
      "[23:16:48] reactant 3 has no mapped atoms.\n",
      "[23:16:48] reactant 5 has no mapped atoms.\n",
      "0it [00:00, ?it/s, reactions=37, reagents=1][23:16:48] reactant 1 has no mapped atoms.\n",
      "[23:16:48] reactant 2 has no mapped atoms.\n",
      "54it [00:00, 536.20it/s, reactions=44, reagents=1][23:16:48] reactant 2 has no mapped atoms.\n",
      "54it [00:00, 536.20it/s, reactions=52, reagents=1][23:16:48] reactant 0 has no mapped atoms.\n",
      "54it [00:00, 536.20it/s, reactions=54, reagents=1][23:16:48] reactant 3 has no mapped atoms.\n",
      "54it [00:00, 536.20it/s, reactions=55, reagents=1][23:16:48] reactant 2 has no mapped atoms.\n",
      "54it [00:00, 536.20it/s, reactions=56, reagents=1][23:16:48] reactant 2 has no mapped atoms.\n",
      "[23:16:48] reactant 4 has no mapped atoms.\n",
      "[23:16:48] reactant 5 has no mapped atoms.\n",
      "54it [00:00, 536.20it/s, reactions=57, reagents=1][23:16:48] reactant 0 has no mapped atoms.\n",
      "[23:16:48] reactant 1 has no mapped atoms.\n",
      "[23:16:48] reactant 2 has no mapped atoms.\n",
      "[23:16:48] reactant 3 has no mapped atoms.\n",
      "[23:16:48] reactant 4 has no mapped atoms.\n",
      "54it [00:00, 536.20it/s, reactions=63, reagents=1][23:16:48] reactant 0 has no mapped atoms.\n",
      "54it [00:00, 536.20it/s, reactions=64, reagents=1][23:16:48] reactant 1 has no mapped atoms.\n",
      "[23:16:48] reactant 2 has no mapped atoms.\n",
      "[23:16:48] reactant 4 has no mapped atoms.\n",
      "54it [00:00, 536.20it/s, reactions=65, reagents=1][23:16:48] reactant 1 has no mapped atoms.\n",
      "[23:16:48] reactant 2 has no mapped atoms.\n",
      "[23:16:48] reactant 4 has no mapped atoms.\n",
      "54it [00:00, 536.20it/s, reactions=66, reagents=1][23:16:48] reactant 1 has no mapped atoms.\n",
      "54it [00:00, 536.20it/s, reactions=67, reagents=1][23:16:48] reactant 1 has no mapped atoms.\n",
      "[23:16:48] reactant 3 has no mapped atoms.\n",
      "54it [00:00, 536.20it/s, reactions=68, reagents=1][23:16:48] reactant 1 has no mapped atoms.\n",
      "[23:16:48] reactant 3 has no mapped atoms.\n",
      "54it [00:00, 536.20it/s, reactions=69, reagents=1][23:16:48] reactant 1 has no mapped atoms.\n",
      "[23:16:48] reactant 2 has no mapped atoms.\n",
      "54it [00:00, 536.20it/s, reactions=70, reagents=1][23:16:48] reactant 2 has no mapped atoms.\n",
      "[23:16:48] reactant 3 has no mapped atoms.\n",
      "54it [00:00, 536.20it/s, reactions=73, reagents=1][23:16:48] reactant 0 has no mapped atoms.\n",
      "54it [00:00, 536.20it/s, reactions=74, reagents=1][23:16:48] reactant 0 has no mapped atoms.\n",
      "54it [00:00, 536.20it/s, reactions=75, reagents=1][23:16:48] reactant 1 has no mapped atoms.\n",
      "[23:16:48] reactant 3 has no mapped atoms.\n",
      "54it [00:00, 536.20it/s, reactions=76, reagents=1][23:16:48] reactant 1 has no mapped atoms.\n",
      "[23:16:48] reactant 2 has no mapped atoms.\n",
      "[23:16:48] reactant 4 has no mapped atoms.\n",
      "54it [00:00, 536.20it/s, reactions=77, reagents=1][23:16:48] reactant 1 has no mapped atoms.\n",
      "54it [00:00, 536.20it/s, reactions=78, reagents=1][23:16:48] reactant 2 has no mapped atoms.\n",
      "[23:16:48] reactant 3 has no mapped atoms.\n",
      "[23:16:48] reactant 4 has no mapped atoms.\n",
      "54it [00:00, 536.20it/s, reactions=79, reagents=1][23:16:48] reactant 1 has no mapped atoms.\n",
      "54it [00:00, 536.20it/s, reactions=80, reagents=1][23:16:48] reactant 0 has no mapped atoms.\n",
      "54it [00:00, 536.20it/s, reactions=81, reagents=1][23:16:48] reactant 0 has no mapped atoms.\n",
      "54it [00:00, 536.20it/s, reactions=82, reagents=1][23:16:48] reactant 2 has no mapped atoms.\n",
      "100it [00:00, 497.72it/s, reactions=84, reagents=1]"
     ]
    },
    {
     "name": "stdout",
     "output_type": "stream",
     "text": [
      "Reagents: 1\n",
      "Reactions: 84\n"
     ]
    },
    {
     "name": "stderr",
     "output_type": "stream",
     "text": [
      "\n"
     ]
    }
   ],
   "source": [
    "seen = set()\n",
    "reactions = []\n",
    "\n",
    "limit = 100\n",
    "\n",
    "with open(\"../data/reactions.rsmi\", \"r\") as f:\n",
    "    lines = f.readlines()[:limit]\n",
    "    it = tqdm(map(process, map(clean, lines)))\n",
    "    for toks in it:\n",
    "        if toks is None:\n",
    "            continue\n",
    "\n",
    "        # Hash the processed reaction to check for duplicates\n",
    "        h = md5(\"_\".join(\"\".join(ts) for ts in toks).encode(\"utf8\")).hexdigest()\n",
    "        if h in seen:\n",
    "            continue\n",
    "        else:\n",
    "            seen.add(h)\n",
    "\n",
    "        reactions.append(toks)\n",
    "\n",
    "        it.set_postfix(reactions=len(reactions), reagents=len(reagents))\n",
    "\n",
    "# Results\n",
    "print(\"Reagents:\", len(reagents))\n",
    "print(\"Reactions:\", len(reactions))\n",
    "\n",
    "# Save\n",
    "# with open(\"../data/reagents.dat\", \"w\") as f:\n",
    "#     lines = []\n",
    "#     for reagent, id in sorted(reagents.items(), key=lambda kv: kv[1]):\n",
    "#         lines.append(\"{}\\t{}\".format(reagent, id))\n",
    "#     f.write(\"\\n\".join(lines))\n",
    "\n",
    "# with open(\"../data/reactions.dat\", \"w\") as f:\n",
    "#     lines = []\n",
    "#     for source_toks, target_toks in reactions:\n",
    "#         lines.append(\"{}\\t{}\".format(\" \".join(source_toks), \" \".join(target_toks)))\n",
    "#     f.write(\"\\n\".join(lines))"
   ]
  },
  {
   "cell_type": "code",
   "execution_count": 16,
   "metadata": {},
   "outputs": [],
   "source": [
    "reagents, product = reactions[2]"
   ]
  },
  {
   "cell_type": "code",
   "execution_count": 17,
   "metadata": {},
   "outputs": [
    {
     "data": {
      "text/plain": [
       "['[OH][CH2][CH2]Cl', 'CCOCC', '[CH3][CH]([CH3])[CH2]S(=O)(=O)Cl']"
      ]
     },
     "execution_count": 17,
     "metadata": {},
     "output_type": "execute_result"
    }
   ],
   "source": [
    "reagents"
   ]
  },
  {
   "cell_type": "code",
   "execution_count": 18,
   "metadata": {},
   "outputs": [
    {
     "data": {
      "text/plain": [
       "['[CH3][CH]([CH3])[CH2]S(=O)(=O)O[CH2][CH2]Cl']"
      ]
     },
     "execution_count": 18,
     "metadata": {},
     "output_type": "execute_result"
    }
   ],
   "source": [
    "product"
   ]
  },
  {
   "cell_type": "code",
   "execution_count": null,
   "metadata": {},
   "outputs": [],
   "source": [
    "### DATA FORMAT FOR FINETUNING\n",
    "\"\"\"\n",
    "<product></product>\n",
    "<reagent></reagent>\n",
    "...\n",
    "<reagent></reagent>\n",
    "<reagent>\n",
    "\"\"\"\n",
    "\n",
    "# completion should be SMILES</reagent>"
   ]
  }
 ],
 "metadata": {
  "kernelspec": {
   "display_name": "synthesis",
   "language": "python",
   "name": "python3"
  },
  "language_info": {
   "codemirror_mode": {
    "name": "ipython",
    "version": 3
   },
   "file_extension": ".py",
   "mimetype": "text/x-python",
   "name": "python",
   "nbconvert_exporter": "python",
   "pygments_lexer": "ipython3",
   "version": "3.10.0"
  }
 },
 "nbformat": 4,
 "nbformat_minor": 2
}
