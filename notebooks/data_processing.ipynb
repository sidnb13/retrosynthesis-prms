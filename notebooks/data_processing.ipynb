{
 "cells": [
  {
   "cell_type": "code",
   "execution_count": 1,
   "metadata": {},
   "outputs": [],
   "source": [
    "import re\n",
    "from tqdm import tqdm\n",
    "from rdkit.Chem import AllChem\n",
    "from rdkit import Chem, RDLogger\n",
    "from collections import defaultdict\n",
    "from hashlib import md5"
   ]
  },
  {
   "cell_type": "code",
   "execution_count": 2,
   "metadata": {},
   "outputs": [],
   "source": [
    "reagents = {}"
   ]
  },
  {
   "cell_type": "code",
   "execution_count": 82,
   "metadata": {},
   "outputs": [],
   "source": [
    "def process(smarts):\n",
    "    \"\"\"Process a SMARTS reaction string\n",
    "    into source and target tokens\"\"\"\n",
    "    rxn = AllChem.ReactionFromSmarts(smarts)\n",
    "    prods = rxn.GetProducts()\n",
    "    if len(prods) > 1:\n",
    "        return None\n",
    "\n",
    "    rxn.Initialize()\n",
    "    try:\n",
    "        reactants = list(zip(rxn.GetReactants(), rxn.GetReactingAtoms()))\n",
    "    except ValueError:\n",
    "        # Likely that initialization failed\n",
    "        # print('Failed to initialize')\n",
    "        return None\n",
    "\n",
    "    prod_smis = []\n",
    "    for mol in prods:\n",
    "        # Clear atom mappings\n",
    "        [x.ClearProp(\"molAtomMapNumber\") for x in mol.GetAtoms()]\n",
    "        smi = Chem.MolToSmiles(mol)\n",
    "        prod_smis.append(smi)\n",
    "\n",
    "    react_smis = []\n",
    "    reagent_syms = []\n",
    "    for mol, atoms in reactants:\n",
    "        # Clear atom mappings\n",
    "        [x.ClearProp(\"molAtomMapNumber\") for x in mol.GetAtoms()]\n",
    "\n",
    "        # Remove molecules with no reacting atoms (reagents)\n",
    "        # But represent as a symbol\n",
    "        if not atoms:\n",
    "            smi = Chem.MolToSmiles(mol)\n",
    "            if smi not in reagents:\n",
    "                reagents[smi] = len(reagents)\n",
    "            reagent_syms.append(\"[A{}]\".format(reagents[smi]))\n",
    "\n",
    "        else:\n",
    "            smi = Chem.MolToSmiles(mol)\n",
    "            react_smis.append(smi)\n",
    "\n",
    "    source = react_smis\n",
    "    if reagent_syms:\n",
    "        source.extend(reagent_syms)\n",
    "    target = prod_smis\n",
    "\n",
    "    return source, target\n",
    "\n",
    "\n",
    "def clean(line):\n",
    "    return line.strip().split()[0]"
   ]
  },
  {
   "cell_type": "code",
   "execution_count": 83,
   "metadata": {},
   "outputs": [
    {
     "name": "stdout",
     "output_type": "stream",
     "text": [
      "[C:1]([C:5]1[CH:10]=[CH:9][C:8]([OH:11])=[CH:7][CH:6]=1)([CH3:4])([CH3:3])[CH3:2]>[Ni]>[C:1]([CH:5]1[CH2:6][CH2:7][CH:8]([OH:11])[CH2:9][CH2:10]1)([CH3:4])([CH3:2])[CH3:3]\n",
      "[Cl-].[Al+3].[Cl-].[Cl-].[Cl:5][CH2:6][CH2:7][CH2:8][C:9](Cl)=[O:10].[C:12]1([CH:18]([CH3:20])[CH3:19])[CH:17]=[CH:16][CH:15]=[CH:14][CH:13]=1>C(Cl)Cl>[Cl:5][CH2:6][CH2:7][CH2:8][C:9]([C:15]1[CH:16]=[CH:17][C:12]([CH:18]([CH3:20])[CH3:19])=[CH:13][CH:14]=1)=[O:10] |f:0.1.2.3|\n"
     ]
    }
   ],
   "source": [
    "# inspect\n",
    "with open(\"../data/reactions.rsmi\", \"r\") as f:\n",
    "    lines = f.readlines()\n",
    "    for line in lines[:2]:\n",
    "        print(line.strip())"
   ]
  },
  {
   "cell_type": "code",
   "execution_count": 85,
   "metadata": {},
   "outputs": [
    {
     "name": "stderr",
     "output_type": "stream",
     "text": [
      "0it [00:00, ?it/s, reactions=1, reagents=6][11:47:08] reactant 0 has no mapped atoms.\n",
      "[11:47:08] reactant 1 has no mapped atoms.\n",
      "[11:47:08] reactant 2 has no mapped atoms.\n",
      "[11:47:08] reactant 3 has no mapped atoms.\n",
      "0it [00:00, ?it/s, reactions=2, reagents=6][11:47:08] reactant 0 has no mapped atoms.\n",
      "[11:47:08] reactant 1 has no mapped atoms.\n",
      "[11:47:08] reactant 2 has no mapped atoms.\n",
      "[11:47:08] reactant 3 has no mapped atoms.\n",
      "0it [00:00, ?it/s, reactions=3, reagents=6][11:47:08] reactant 2 has no mapped atoms.\n",
      "0it [00:00, ?it/s, reactions=5, reagents=6][11:47:08] reactant 2 has no mapped atoms.\n",
      "[11:47:08] reactant 3 has no mapped atoms.\n",
      "[11:47:08] reactant 4 has no mapped atoms.\n",
      "[11:47:08] reactant 5 has no mapped atoms.\n",
      "[11:47:08] reactant 6 has no mapped atoms.\n",
      "[11:47:08] reactant 7 has no mapped atoms.\n",
      "0it [00:00, ?it/s, reactions=7, reagents=6][11:47:08] reactant 1 has no mapped atoms.\n",
      "[11:47:08] reactant 2 has no mapped atoms.\n",
      "0it [00:00, ?it/s, reactions=8, reagents=6][11:47:08] reactant 1 has no mapped atoms.\n",
      "0it [00:00, ?it/s, reactions=9, reagents=6][11:47:08] reactant 1 has no mapped atoms.\n",
      "[11:47:08] reactant 2 has no mapped atoms.\n",
      "[11:47:08] reactant 3 has no mapped atoms.\n",
      "[11:47:08] reactant 4 has no mapped atoms.\n",
      "0it [00:00, ?it/s, reactions=10, reagents=6][11:47:08] reactant 1 has no mapped atoms.\n",
      "0it [00:00, ?it/s, reactions=11, reagents=6][11:47:08] reactant 1 has no mapped atoms.\n",
      "[11:47:08] reactant 2 has no mapped atoms.\n",
      "[11:47:08] reactant 3 has no mapped atoms.\n",
      "[11:47:08] reactant 4 has no mapped atoms.\n",
      "[11:47:08] reactant 5 has no mapped atoms.\n",
      "[11:47:08] reactant 7 has no mapped atoms.\n",
      "0it [00:00, ?it/s, reactions=12, reagents=6][11:47:08] reactant 0 has no mapped atoms.\n",
      "[11:47:08] reactant 1 has no mapped atoms.\n",
      "[11:47:08] reactant 2 has no mapped atoms.\n",
      "[11:47:08] reactant 3 has no mapped atoms.\n",
      "0it [00:00, ?it/s, reactions=13, reagents=6][11:47:08] reactant 1 has no mapped atoms.\n",
      "[11:47:08] reactant 2 has no mapped atoms.\n",
      "[11:47:08] reactant 3 has no mapped atoms.\n",
      "[11:47:08] reactant 4 has no mapped atoms.\n",
      "[11:47:08] reactant 5 has no mapped atoms.\n",
      "[11:47:08] reactant 7 has no mapped atoms.\n",
      "0it [00:00, ?it/s, reactions=14, reagents=6][11:47:08] reactant 0 has no mapped atoms.\n",
      "[11:47:08] reactant 1 has no mapped atoms.\n",
      "[11:47:08] reactant 2 has no mapped atoms.\n",
      "[11:47:08] reactant 3 has no mapped atoms.\n",
      "20it [00:00, 199.53it/s, reactions=21, reagents=6][11:47:08] reactant 0 has no mapped atoms.\n",
      "20it [00:00, 199.53it/s, reactions=23, reagents=6][11:47:08] reactant 2 has no mapped atoms.\n",
      "[11:47:08] reactant 3 has no mapped atoms.\n",
      "[11:47:08] reactant 4 has no mapped atoms.\n",
      "20it [00:00, 199.53it/s, reactions=24, reagents=6][11:47:08] reactant 0 has no mapped atoms.\n",
      "[11:47:08] reactant 2 has no mapped atoms.\n",
      "[11:47:08] reactant 4 has no mapped atoms.\n",
      "20it [00:00, 199.53it/s, reactions=25, reagents=6][11:47:08] reactant 0 has no mapped atoms.\n",
      "[11:47:08] reactant 3 has no mapped atoms.\n",
      "20it [00:00, 199.53it/s, reactions=26, reagents=6][11:47:08] reactant 2 has no mapped atoms.\n",
      "20it [00:00, 199.53it/s, reactions=28, reagents=6][11:47:08] reactant 3 has no mapped atoms.\n",
      "20it [00:00, 199.53it/s, reactions=29, reagents=6][11:47:08] reactant 1 has no mapped atoms.\n",
      "[11:47:08] reactant 2 has no mapped atoms.\n",
      "[11:47:08] reactant 3 has no mapped atoms.\n",
      "[11:47:08] reactant 4 has no mapped atoms.\n",
      "20it [00:00, 199.53it/s, reactions=30, reagents=6][11:47:08] reactant 0 has no mapped atoms.\n",
      "[11:47:08] reactant 1 has no mapped atoms.\n",
      "[11:47:08] reactant 2 has no mapped atoms.\n",
      "[11:47:08] reactant 3 has no mapped atoms.\n",
      "[11:47:08] reactant 4 has no mapped atoms.\n",
      "20it [00:00, 199.53it/s, reactions=31, reagents=6][11:47:08] reactant 2 has no mapped atoms.\n",
      "[11:47:08] reactant 3 has no mapped atoms.\n",
      "20it [00:00, 199.53it/s, reactions=32, reagents=6][11:47:08] reactant 1 has no mapped atoms.\n",
      "[11:47:08] reactant 2 has no mapped atoms.\n",
      "[11:47:08] reactant 3 has no mapped atoms.\n",
      "20it [00:00, 199.53it/s, reactions=36, reagents=6][11:47:08] reactant 0 has no mapped atoms.\n",
      "20it [00:00, 199.53it/s, reactions=39, reagents=6][11:47:08] reactant 0 has no mapped atoms.\n",
      "[11:47:08] reactant 2 has no mapped atoms.\n",
      "20it [00:00, 199.53it/s, reactions=40, reagents=6][11:47:08] reactant 2 has no mapped atoms.\n",
      "49it [00:00, 248.78it/s, reactions=45, reagents=6][11:47:08] reactant 1 has no mapped atoms.\n",
      "[11:47:08] reactant 2 has no mapped atoms.\n",
      "49it [00:00, 248.78it/s, reactions=46, reagents=6][11:47:08] reactant 0 has no mapped atoms.\n",
      "[11:47:08] reactant 0 has no mapped atoms.\n",
      "[11:47:08] reactant 2 has no mapped atoms.\n",
      "[11:47:08] reactant 2 has no mapped atoms.\n",
      "49it [00:00, 248.78it/s, reactions=47, reagents=6][11:47:08] reactant 1 has no mapped atoms.\n",
      "[11:47:08] reactant 2 has no mapped atoms.\n",
      "[11:47:08] reactant 3 has no mapped atoms.\n",
      "[11:47:08] reactant 4 has no mapped atoms.\n",
      "[11:47:08] reactant 5 has no mapped atoms.\n",
      "[11:47:08] reactant 6 has no mapped atoms.\n",
      "[11:47:08] reactant 7 has no mapped atoms.\n",
      "[11:47:08] reactant 8 has no mapped atoms.\n",
      "[11:47:08] reactant 9 has no mapped atoms.\n",
      "[11:47:08] reactant 10 has no mapped atoms.\n",
      "[11:47:08] reactant 11 has no mapped atoms.\n",
      "[11:47:08] reactant 12 has no mapped atoms.\n",
      "49it [00:00, 248.78it/s, reactions=48, reagents=6][11:47:08] reactant 2 has no mapped atoms.\n",
      "[11:47:08] reactant 3 has no mapped atoms.\n",
      "[11:47:08] reactant 4 has no mapped atoms.\n",
      "49it [00:00, 248.78it/s, reactions=49, reagents=6][11:47:08] reactant atom-mapping number 19 found multiple times.\n",
      "[11:47:08] reactant atom-mapping number 18 found multiple times.\n",
      "[11:47:08] reactant atom-mapping number 14 found multiple times.\n",
      "[11:47:08] reactant atom-mapping number 20 found multiple times.\n",
      "[11:47:08] reactant atom-mapping number 17 found multiple times.\n",
      "[11:47:08] reactant atom-mapping number 16 found multiple times.\n",
      "[11:47:08] reactant atom-mapping number 15 found multiple times.\n",
      "[11:47:08] reactant 2 has no mapped atoms.\n",
      "[11:47:08] reactant 3 has no mapped atoms.\n",
      "[11:47:08] initialization failed\n",
      "[11:47:08] reactant 1 has no mapped atoms.\n",
      "[11:47:08] reactant 2 has no mapped atoms.\n",
      "49it [00:00, 248.78it/s, reactions=50, reagents=6][11:47:08] product atom-mapping number 16 found multiple times.\n",
      "[11:47:08] product atom-mapping number 17 found multiple times.\n",
      "[11:47:08] product atom-mapping number 2 found multiple times.\n",
      "[11:47:08] product atom-mapping number 3 found multiple times.\n",
      "[11:47:08] product atom-mapping number 4 found multiple times.\n",
      "49it [00:00, 248.78it/s, reactions=51, reagents=6][11:47:08] reactant 1 has no mapped atoms.\n",
      "49it [00:00, 248.78it/s, reactions=52, reagents=6][11:47:08] reactant 2 has no mapped atoms.\n",
      "[11:47:08] reactant 3 has no mapped atoms.\n",
      "[11:47:08] reactant 4 has no mapped atoms.\n",
      "49it [00:00, 248.78it/s, reactions=53, reagents=6][11:47:08] reactant 2 has no mapped atoms.\n",
      "[11:47:08] reactant 3 has no mapped atoms.\n",
      "49it [00:00, 248.78it/s, reactions=54, reagents=6][11:47:08] reactant 1 has no mapped atoms.\n",
      "[11:47:08] reactant 2 has no mapped atoms.\n",
      "77it [00:00, 260.43it/s, reactions=55, reagents=6][11:47:08] reactant 2 has no mapped atoms.\n",
      "[11:47:08] reactant 3 has no mapped atoms.\n",
      "[11:47:08] reactant 4 has no mapped atoms.\n",
      "77it [00:00, 260.43it/s, reactions=57, reagents=6][11:47:08] product atom-mapping number 10 found multiple times.\n",
      "[11:47:08] product atom-mapping number 11 found multiple times.\n",
      "[11:47:08] product atom-mapping number 2 found multiple times.\n",
      "[11:47:08] product atom-mapping number 3 found multiple times.\n",
      "[11:47:08] product atom-mapping number 4 found multiple times.\n",
      "77it [00:00, 260.43it/s, reactions=58, reagents=6][11:47:08] reactant 1 has no mapped atoms.\n",
      "[11:47:08] reactant 2 has no mapped atoms.\n",
      "77it [00:00, 260.43it/s, reactions=59, reagents=6][11:47:08] reactant 1 has no mapped atoms.\n",
      "[11:47:08] reactant 2 has no mapped atoms.\n",
      "[11:47:08] reactant 3 has no mapped atoms.\n",
      "[11:47:08] reactant 4 has no mapped atoms.\n",
      "[11:47:08] reactant 5 has no mapped atoms.\n",
      "77it [00:00, 260.43it/s, reactions=60, reagents=6][11:47:08] reactant 1 has no mapped atoms.\n",
      "[11:47:08] reactant 2 has no mapped atoms.\n",
      "77it [00:00, 260.43it/s, reactions=61, reagents=6][11:47:08] product atom-mapping number 10 found multiple times.\n",
      "[11:47:08] product atom-mapping number 11 found multiple times.\n",
      "[11:47:08] product atom-mapping number 2 found multiple times.\n",
      "[11:47:08] product atom-mapping number 3 found multiple times.\n",
      "[11:47:08] product atom-mapping number 4 found multiple times.\n",
      "77it [00:00, 260.43it/s, reactions=62, reagents=6][11:47:08] reactant 1 has no mapped atoms.\n",
      "[11:47:08] reactant 2 has no mapped atoms.\n",
      "77it [00:00, 260.43it/s, reactions=64, reagents=6][11:47:08] reactant 1 has no mapped atoms.\n",
      "[11:47:08] reactant 2 has no mapped atoms.\n",
      "77it [00:00, 260.43it/s, reactions=65, reagents=6][11:47:08] reactant 3 has no mapped atoms.\n",
      "[11:47:08] product atom-mapping number 4 found multiple times.\n",
      "[11:47:08] product atom-mapping number 3 found multiple times.\n",
      "[11:47:08] product atom-mapping number 2 found multiple times.\n",
      "[11:47:08] product atom-mapping number 10 found multiple times.\n",
      "[11:47:08] product atom-mapping number 6 found multiple times.\n",
      "77it [00:00, 260.43it/s, reactions=66, reagents=6][11:47:08] reactant 2 has no mapped atoms.\n",
      "77it [00:00, 260.43it/s, reactions=67, reagents=6][11:47:08] reactant 1 has no mapped atoms.\n",
      "[11:47:08] reactant 2 has no mapped atoms.\n",
      "77it [00:00, 260.43it/s, reactions=70, reagents=6][11:47:08] reactant 0 has no mapped atoms.\n",
      "100it [00:00, 253.14it/s, reactions=70, reagents=6]"
     ]
    },
    {
     "name": "stdout",
     "output_type": "stream",
     "text": [
      "Reagents: 6\n",
      "Reactions: 70\n"
     ]
    },
    {
     "name": "stderr",
     "output_type": "stream",
     "text": [
      "\n"
     ]
    }
   ],
   "source": [
    "seen = set()\n",
    "reactions = []\n",
    "\n",
    "limit = 100\n",
    "\n",
    "with open(\"../data/reactions.rsmi\", \"r\") as f:\n",
    "    lines = f.readlines()[:limit]\n",
    "    it = tqdm(map(process, map(clean, lines)))\n",
    "    for toks in it:\n",
    "        if toks is None:\n",
    "            continue\n",
    "\n",
    "        # Hash the processed reaction to check for duplicates\n",
    "        h = md5(\"_\".join(\"\".join(ts) for ts in toks).encode(\"utf8\")).hexdigest()\n",
    "        if h in seen:\n",
    "            continue\n",
    "        else:\n",
    "            seen.add(h)\n",
    "\n",
    "        reactions.append(toks)\n",
    "\n",
    "        it.set_postfix(reactions=len(reactions), reagents=len(reagents))\n",
    "\n",
    "# Results\n",
    "print(\"Reagents:\", len(reagents))\n",
    "print(\"Reactions:\", len(reactions))\n",
    "\n",
    "# Save\n",
    "# with open(\"../data/reagents.dat\", \"w\") as f:\n",
    "#     lines = []\n",
    "#     for reagent, id in sorted(reagents.items(), key=lambda kv: kv[1]):\n",
    "#         lines.append(\"{}\\t{}\".format(reagent, id))\n",
    "#     f.write(\"\\n\".join(lines))\n",
    "\n",
    "# with open(\"../data/reactions.dat\", \"w\") as f:\n",
    "#     lines = []\n",
    "#     for source_toks, target_toks in reactions:\n",
    "#         lines.append(\"{}\\t{}\".format(\" \".join(source_toks), \" \".join(target_toks)))\n",
    "#     f.write(\"\\n\".join(lines))"
   ]
  },
  {
   "cell_type": "code",
   "execution_count": 90,
   "metadata": {},
   "outputs": [],
   "source": [
    "reagents, product = reactions[1]"
   ]
  },
  {
   "cell_type": "code",
   "execution_count": 91,
   "metadata": {},
   "outputs": [
    {
     "data": {
      "text/plain": [
       "['[Cl-]',\n",
       " '[Al+3]',\n",
       " '[Cl-]',\n",
       " '[Cl-]',\n",
       " 'O=C(Cl)[CH2][CH2][CH2]Cl',\n",
       " '[CH3][CH]([CH3])C1=[CH][CH]=[CH][CH]=[CH]1']"
      ]
     },
     "execution_count": 91,
     "metadata": {},
     "output_type": "execute_result"
    }
   ],
   "source": [
    "reagents"
   ]
  },
  {
   "cell_type": "code",
   "execution_count": 92,
   "metadata": {},
   "outputs": [
    {
     "data": {
      "text/plain": [
       "['[CH3][CH]([CH3])C1=[CH][CH]=C(C(=O)[CH2][CH2][CH2]Cl)[CH]=[CH]1']"
      ]
     },
     "execution_count": 92,
     "metadata": {},
     "output_type": "execute_result"
    }
   ],
   "source": [
    "product"
   ]
  },
  {
   "cell_type": "code",
   "execution_count": null,
   "metadata": {},
   "outputs": [],
   "source": []
  }
 ],
 "metadata": {
  "kernelspec": {
   "display_name": "synthesis",
   "language": "python",
   "name": "python3"
  },
  "language_info": {
   "codemirror_mode": {
    "name": "ipython",
    "version": 3
   },
   "file_extension": ".py",
   "mimetype": "text/x-python",
   "name": "python",
   "nbconvert_exporter": "python",
   "pygments_lexer": "ipython3",
   "version": "3.10.12"
  }
 },
 "nbformat": 4,
 "nbformat_minor": 2
}
