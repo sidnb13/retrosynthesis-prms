{
 "cells": [
  {
   "cell_type": "code",
   "execution_count": 29,
   "metadata": {},
   "outputs": [
    {
     "name": "stdout",
     "output_type": "stream",
     "text": [
      "The autoreload extension is already loaded. To reload it, use:\n",
      "  %reload_ext autoreload\n"
     ]
    }
   ],
   "source": [
    "import sys\n",
    "\n",
    "sys.path.append('..')\n",
    "\n",
    "from data import ProcessSupervisedDataset\n",
    "\n",
    "%load_ext autoreload\n",
    "%autoreload 2"
   ]
  },
  {
   "cell_type": "code",
   "execution_count": 30,
   "metadata": {},
   "outputs": [
    {
     "name": "stderr",
     "output_type": "stream",
     "text": [
      "0it [00:00, ?it/s][00:16:07] reactant 2 has no mapped atoms.\n",
      "0it [00:00, ?it/s, reactions=1, reagents=0][00:16:07] reactant 2 has no mapped atoms.\n",
      "0it [00:00, ?it/s, reactions=2, reagents=0][00:16:07] reactant 1 has no mapped atoms.\n",
      "0it [00:00, ?it/s, reactions=3, reagents=0][00:16:07] reactant 2 has no mapped atoms.\n",
      "[00:16:07] reactant 2 has no mapped atoms.\n",
      "[00:16:07] reactant 1 has no mapped atoms.\n",
      "[00:16:07] reactant 1 has no mapped atoms.\n",
      "[00:16:07] reactant 2 has no mapped atoms.\n",
      "[00:16:07] reactant 3 has no mapped atoms.\n",
      "0it [00:00, ?it/s, reactions=4, reagents=0][00:16:07] reactant 2 has no mapped atoms.\n",
      "0it [00:00, ?it/s, reactions=1, reagents=0][00:16:07] reactant 2 has no mapped atoms.\n",
      "0it [00:00, ?it/s, reactions=2, reagents=0][00:16:07] reactant 1 has no mapped atoms.\n",
      "0it [00:00, ?it/s, reactions=3, reagents=0][00:16:07] reactant 2 has no mapped atoms.\n",
      "[00:16:07] reactant 2 has no mapped atoms.\n",
      "[00:16:07] reactant 1 has no mapped atoms.\n",
      "[00:16:07] reactant 1 has no mapped atoms.\n",
      "[00:16:07] reactant 2 has no mapped atoms.\n",
      "[00:16:07] reactant 3 has no mapped atoms.\n",
      "0it [00:00, ?it/s, reactions=5, reagents=0][00:16:07] reactant 0 has no mapped atoms.\n",
      "0it [00:00, ?it/s, reactions=7, reagents=0][00:16:07] reactant 1 has no mapped atoms.\n",
      "[00:16:07] reactant 2 has no mapped atoms.\n",
      "[00:16:07] reactant 3 has no mapped atoms.\n",
      "[00:16:07] reactant 4 has no mapped atoms.\n",
      "[00:16:07] reactant 5 has no mapped atoms.\n",
      "[00:16:07] reactant 6 has no mapped atoms.\n",
      "0it [00:00, ?it/s, reactions=9, reagents=0][00:16:07] reactant 1 has no mapped atoms.\n",
      "[00:16:07] reactant 3 has no mapped atoms.\n",
      "[00:16:07] reactant 4 has no mapped atoms.\n",
      "[00:16:07] product atom-mapping number 2 found multiple times.\n",
      "[00:16:07] product atom-mapping number 3 found multiple times.\n",
      "[00:16:07] product atom-mapping number 5 found multiple times.\n",
      "[00:16:07] product atom-mapping number 6 found multiple times.\n",
      "[00:16:07] product atom-mapping number 1 found multiple times.\n",
      "0it [00:00, ?it/s, reactions=10, reagents=0][00:16:07] product atom-mapping number 2 found multiple times.\n",
      "[00:16:07] product atom-mapping number 3 found multiple times.\n",
      "[00:16:07] product atom-mapping number 7 found multiple times.\n",
      "[00:16:07] product atom-mapping number 8 found multiple times.\n",
      "[00:16:07] product atom-mapping number 12 found multiple times.\n",
      "[00:16:07] product atom-mapping number 13 found multiple times.\n",
      "0it [00:00, ?it/s, reactions=12, reagents=0][00:16:07] reactant 2 has no mapped atoms.\n",
      "[00:16:07] reactant 3 has no mapped atoms.\n",
      "0it [00:00, ?it/s, reactions=13, reagents=0][00:16:07] reactant 1 has no mapped atoms.\n",
      "0it [00:00, ?it/s, reactions=14, reagents=0][00:16:07] reactant 1 has no mapped atoms.\n",
      "[00:16:07] reactant 2 has no mapped atoms.\n",
      "[00:16:07] reactant 3 has no mapped atoms.\n",
      "0it [00:00, ?it/s, reactions=16, reagents=0][00:16:07] reactant 2 has no mapped atoms.\n",
      "0it [00:00, ?it/s, reactions=17, reagents=0][00:16:07] reactant 0 has no mapped atoms.\n",
      "[00:16:07] reactant 1 has no mapped atoms.\n",
      "[00:16:07] reactant 2 has no mapped atoms.\n",
      "[00:16:07] reactant 3 has no mapped atoms.\n",
      "[00:16:07] reactant 4 has no mapped atoms.\n",
      "[00:16:07] reactant 5 has no mapped atoms.\n",
      "[00:16:07] reactant 7 has no mapped atoms.\n",
      "[00:16:07] reactant 8 has no mapped atoms.\n",
      "[00:16:07] reactant 9 has no mapped atoms.\n",
      "0it [00:00, ?it/s, reactions=18, reagents=0][00:16:07] reactant 0 has no mapped atoms.\n",
      "[00:16:07] reactant 1 has no mapped atoms.\n",
      "[00:16:07] reactant 5 has no mapped atoms.\n",
      "0it [00:00, ?it/s, reactions=19, reagents=0][00:16:07] reactant 1 has no mapped atoms.\n",
      "[00:16:07] reactant 2 has no mapped atoms.\n",
      "[00:16:07] reactant 3 has no mapped atoms.\n",
      "[00:16:07] reactant 4 has no mapped atoms.\n",
      "[00:16:07] reactant 5 has no mapped atoms.\n",
      "[00:16:07] reactant 7 has no mapped atoms.\n",
      "0it [00:00, ?it/s, reactions=20, reagents=0][00:16:07] reactant 1 has no mapped atoms.\n",
      "[00:16:07] reactant 2 has no mapped atoms.\n",
      "0it [00:00, ?it/s, reactions=21, reagents=0][00:16:07] reactant 1 has no mapped atoms.\n",
      "0it [00:00, ?it/s, reactions=23, reagents=0][00:16:07] reactant 0 has no mapped atoms.\n",
      "[00:16:07] reactant 3 has no mapped atoms.\n",
      "[00:16:07] reactant 4 has no mapped atoms.\n",
      "0it [00:00, ?it/s, reactions=24, reagents=0][00:16:07] reactant 0 has no mapped atoms.\n",
      "[00:16:07] reactant 3 has no mapped atoms.\n",
      "0it [00:00, ?it/s, reactions=25, reagents=0][00:16:07] reactant 0 has no mapped atoms.\n",
      "0it [00:00, ?it/s, reactions=27, reagents=0][00:16:07] reactant 1 has no mapped atoms.\n",
      "[00:16:07] reactant 2 has no mapped atoms.\n",
      "0it [00:00, ?it/s, reactions=28, reagents=0][00:16:07] reactant 2 has no mapped atoms.\n",
      "0it [00:00, ?it/s, reactions=29, reagents=0][00:16:07] reactant 1 has no mapped atoms.\n",
      "[00:16:07] reactant 2 has no mapped atoms.\n",
      "0it [00:00, ?it/s, reactions=30, reagents=0][00:16:07] reactant 2 has no mapped atoms.\n",
      "0it [00:00, ?it/s, reactions=31, reagents=0][00:16:07] reactant 1 has no mapped atoms.\n",
      "[00:16:07] reactant 2 has no mapped atoms.\n",
      "0it [00:00, ?it/s, reactions=32, reagents=0][00:16:07] reactant 1 has no mapped atoms.\n",
      "0it [00:00, ?it/s, reactions=33, reagents=0][00:16:07] reactant 0 has no mapped atoms.\n",
      "[00:16:07] reactant 1 has no mapped atoms.\n",
      "[00:16:07] reactant 4 has no mapped atoms.\n",
      "0it [00:00, ?it/s, reactions=34, reagents=0][00:16:07] reactant 0 has no mapped atoms.\n",
      "[00:16:07] reactant 1 has no mapped atoms.\n",
      "[00:16:07] reactant 3 has no mapped atoms.\n",
      "0it [00:00, ?it/s, reactions=36, reagents=0][00:16:07] reactant 0 has no mapped atoms.\n",
      "[00:16:07] reactant 2 has no mapped atoms.\n",
      "[00:16:07] reactant 3 has no mapped atoms.\n",
      "[00:16:07] reactant 5 has no mapped atoms.\n",
      "0it [00:00, ?it/s, reactions=37, reagents=0][00:16:07] reactant 1 has no mapped atoms.\n",
      "[00:16:07] reactant 2 has no mapped atoms.\n",
      "52it [00:00, 517.01it/s, reactions=44, reagents=0][00:16:07] reactant 2 has no mapped atoms.\n",
      "52it [00:00, 517.01it/s, reactions=52, reagents=0][00:16:07] reactant 0 has no mapped atoms.\n",
      "52it [00:00, 517.01it/s, reactions=54, reagents=0][00:16:07] reactant 3 has no mapped atoms.\n",
      "52it [00:00, 517.01it/s, reactions=55, reagents=0][00:16:07] reactant 2 has no mapped atoms.\n",
      "52it [00:00, 517.01it/s, reactions=56, reagents=0][00:16:07] reactant 2 has no mapped atoms.\n",
      "[00:16:07] reactant 4 has no mapped atoms.\n",
      "[00:16:07] reactant 5 has no mapped atoms.\n",
      "52it [00:00, 517.01it/s, reactions=57, reagents=0][00:16:07] reactant 0 has no mapped atoms.\n",
      "[00:16:07] reactant 1 has no mapped atoms.\n",
      "[00:16:07] reactant 2 has no mapped atoms.\n",
      "[00:16:07] reactant 3 has no mapped atoms.\n",
      "[00:16:07] reactant 4 has no mapped atoms.\n",
      "52it [00:00, 517.01it/s, reactions=63, reagents=0][00:16:07] reactant 0 has no mapped atoms.\n",
      "52it [00:00, 517.01it/s, reactions=64, reagents=0][00:16:07] reactant 1 has no mapped atoms.\n",
      "[00:16:07] reactant 2 has no mapped atoms.\n",
      "[00:16:07] reactant 4 has no mapped atoms.\n",
      "52it [00:00, 517.01it/s, reactions=65, reagents=0][00:16:07] reactant 1 has no mapped atoms.\n",
      "[00:16:07] reactant 2 has no mapped atoms.\n",
      "[00:16:07] reactant 4 has no mapped atoms.\n",
      "52it [00:00, 517.01it/s, reactions=66, reagents=0][00:16:07] reactant 1 has no mapped atoms.\n",
      "52it [00:00, 517.01it/s, reactions=67, reagents=0][00:16:07] reactant 1 has no mapped atoms.\n",
      "[00:16:07] reactant 3 has no mapped atoms.\n",
      "52it [00:00, 517.01it/s, reactions=68, reagents=0][00:16:07] reactant 1 has no mapped atoms.\n",
      "[00:16:07] reactant 3 has no mapped atoms.\n",
      "52it [00:00, 517.01it/s, reactions=69, reagents=0][00:16:07] reactant 1 has no mapped atoms.\n",
      "[00:16:07] reactant 2 has no mapped atoms.\n",
      "52it [00:00, 517.01it/s, reactions=70, reagents=0][00:16:07] reactant 2 has no mapped atoms.\n",
      "[00:16:07] reactant 3 has no mapped atoms.\n",
      "52it [00:00, 517.01it/s, reactions=73, reagents=0][00:16:07] reactant 0 has no mapped atoms.\n",
      "52it [00:00, 517.01it/s, reactions=74, reagents=0][00:16:07] reactant 0 has no mapped atoms.\n",
      "52it [00:00, 517.01it/s, reactions=75, reagents=0][00:16:07] reactant 1 has no mapped atoms.\n",
      "[00:16:07] reactant 3 has no mapped atoms.\n",
      "52it [00:00, 517.01it/s, reactions=76, reagents=0][00:16:07] reactant 1 has no mapped atoms.\n",
      "[00:16:07] reactant 2 has no mapped atoms.\n",
      "[00:16:07] reactant 4 has no mapped atoms.\n",
      "52it [00:00, 517.01it/s, reactions=77, reagents=0][00:16:07] reactant 1 has no mapped atoms.\n",
      "52it [00:00, 517.01it/s, reactions=78, reagents=0][00:16:07] reactant 2 has no mapped atoms.\n",
      "[00:16:07] reactant 3 has no mapped atoms.\n",
      "[00:16:07] reactant 4 has no mapped atoms.\n",
      "52it [00:00, 517.01it/s, reactions=79, reagents=0][00:16:07] reactant 1 has no mapped atoms.\n",
      "52it [00:00, 517.01it/s, reactions=80, reagents=0][00:16:07] reactant 0 has no mapped atoms.\n",
      "52it [00:00, 517.01it/s, reactions=81, reagents=0][00:16:07] reactant 0 has no mapped atoms.\n",
      "52it [00:00, 517.01it/s, reactions=82, reagents=0][00:16:07] reactant 2 has no mapped atoms.\n",
      "100it [00:00, 426.49it/s, reactions=84, reagents=0]\n"
     ]
    }
   ],
   "source": [
    "ds = ProcessSupervisedDataset(\n",
    "    model_name_or_path='gpt2',\n",
    "    data_file='../data/reactions.rsmi',\n",
    "    limit=100,\n",
    "    max_length=128\n",
    ")"
   ]
  },
  {
   "cell_type": "code",
   "execution_count": 31,
   "metadata": {},
   "outputs": [
    {
     "name": "stdout",
     "output_type": "stream",
     "text": [
      "<|endoftext|><reagent>[OH][CH2][CH2]Br<reagent><|endoftext|>\n",
      "<reagent>[CH3][CH2]S(=O)(=O)Cl<reagent><|endoftext|>\n",
      "<reagent>CCOCC<reagent><|endoftext|><product>[CH3][CH2]S(=O)(=O)O[CH2][CH2]Br<product>\n"
     ]
    }
   ],
   "source": [
    "x = ds[0]"
   ]
  },
  {
   "cell_type": "code",
   "execution_count": 32,
   "metadata": {},
   "outputs": [
    {
     "data": {
      "text/plain": [
       "128"
      ]
     },
     "execution_count": 32,
     "metadata": {},
     "output_type": "execute_result"
    }
   ],
   "source": [
    "len(x[\"input_ids\"])"
   ]
  },
  {
   "cell_type": "code",
   "execution_count": 33,
   "metadata": {},
   "outputs": [
    {
     "data": {
      "text/plain": [
       "array([50256, 50256, 50256, 50256, 50256, 50256, 50256, 50256, 50256,\n",
       "       50256, 50256, 50256, 50256, 50256, 50256, 50256, 50256, 50256,\n",
       "       50256, 50256, 50256, 50256, 50256, 50256, 50256, 50256, 50256,\n",
       "       50256, 50256, 50256, 50256, 50256, 50256, 50256, 50256, 50256,\n",
       "       50256, 50256, 50256, 50256, 50256, 50256, 50256, 50256, 50256,\n",
       "       50256, 50256, 50256, 50256, 50256, 50256, 50256, 50256, 50256,\n",
       "       50256, 50256, 50256, 50256, 50256, 50256, 50256, 50256, 50256,\n",
       "       50256, 50256, 50256, 50256, 50256, 50256, 50256, 50256, 50256,\n",
       "          27,   260, 25781, 36937, 12096,  7131,  3398,    17,  7131,\n",
       "        3398,    17,    60,  9414,    27,   260, 25781,    29, 50256,\n",
       "         198,    27,   260, 25781, 36937,  3398,    18,  7131,  3398,\n",
       "          17,    60,    50,     7,    28,    46,  5769,    28,    46,\n",
       "           8,  2601,    27,   260, 25781,    29, 50256,   198,    27,\n",
       "         260, 25781,    29,  4093,    46,  4093,    27,   260, 25781,\n",
       "          29, 50256])"
      ]
     },
     "execution_count": 33,
     "metadata": {},
     "output_type": "execute_result"
    }
   ],
   "source": [
    "import numpy as np\n",
    "\n",
    "np.array(x[\"input_ids\"])"
   ]
  },
  {
   "cell_type": "code",
   "execution_count": 34,
   "metadata": {},
   "outputs": [
    {
     "data": {
      "text/plain": [
       "array([ -100,  -100,  -100,  -100,  -100,  -100,  -100,  -100,  -100,\n",
       "        -100,  -100,  -100,  -100,  -100,  -100,  -100,  -100,  -100,\n",
       "        -100,  -100,  -100,  -100,  -100,  -100,  -100,  -100,  -100,\n",
       "        -100,  -100,  -100,  -100,  -100,  -100,  -100,  -100,  -100,\n",
       "        -100,  -100,  -100,  -100,  -100,  -100,  -100,  -100,  -100,\n",
       "        -100,  -100,  -100,  -100,  -100,  -100,  -100,  -100,  -100,\n",
       "        -100,  -100,  -100,  -100,  -100,  -100,  -100,  -100,  -100,\n",
       "        -100,  -100,  -100,  -100,  -100,  -100,  -100,  -100,  -100,\n",
       "        -100,  -100,  -100,  -100,  -100,  -100,  -100,  -100,  -100,\n",
       "        -100,  -100,  -100,  -100,  -100,  -100,  -100,  -100,  -100,\n",
       "        -100,  -100,  -100,  -100,  -100,  -100,  -100,  -100,  -100,\n",
       "          27, 11167, 36937,  3398,    18,  7131,  3398,    17,    60,\n",
       "          50,     7,    28,    46,  5769,    28,    46,     8,    46,\n",
       "          58,  3398,    17,  7131,  3398,    17,    60,  9414,    27,\n",
       "       11167,    29])"
      ]
     },
     "execution_count": 34,
     "metadata": {},
     "output_type": "execute_result"
    }
   ],
   "source": [
    "np.array(x[\"labels\"])"
   ]
  }
 ],
 "metadata": {
  "kernelspec": {
   "display_name": "synthesis",
   "language": "python",
   "name": "python3"
  },
  "language_info": {
   "codemirror_mode": {
    "name": "ipython",
    "version": 3
   },
   "file_extension": ".py",
   "mimetype": "text/x-python",
   "name": "python",
   "nbconvert_exporter": "python",
   "pygments_lexer": "ipython3",
   "version": "3.10.0"
  }
 },
 "nbformat": 4,
 "nbformat_minor": 2
}
